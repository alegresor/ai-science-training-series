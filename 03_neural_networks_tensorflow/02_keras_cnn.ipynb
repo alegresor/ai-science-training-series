{
  "cells": [
    {
      "cell_type": "markdown",
      "metadata": {
        "id": "mOnyVjrbiTAx"
      },
      "source": [
        "# CIFAR-10 dataset classification with CNNs\n",
        "\n",
        "Author: Tanwi Mallick, adapting codes from Bethany Lusch, Prasanna Balprakash, Corey Adams, and Kyle Felker\n",
        "\n",
        "In this notebook, we'll continue the CIFAR-10 problem using the Keras API (as included in the TensorFlow library) and incorporating convolutional layers.\n",
        "\n",
        "First, the needed imports."
      ]
    },
    {
      "cell_type": "code",
      "execution_count": 1,
      "metadata": {
        "id": "Rf6sSdEuiTAy"
      },
      "outputs": [],
      "source": [
        "%matplotlib inline\n",
        "\n",
        "import tensorflow as tf\n",
        "\n",
        "import numpy\n",
        "import matplotlib.pyplot as plt\n",
        "import time"
      ]
    },
    {
      "cell_type": "markdown",
      "metadata": {
        "id": "gTSQWikSiTAz"
      },
      "source": [
        "## CIFAR-10 data set\n",
        "\n",
        "Again we'll load the cifar10 data set. CIFAR-10 dataset contains 32x32 color images from 10 classes: airplane, automobile, bird, cat, deer, dog, frog, horse, ship, truck. If you haven't downloaded it already, it could take a while."
      ]
    },
    {
      "cell_type": "code",
      "execution_count": 2,
      "metadata": {
        "id": "s39mFyojiTAz"
      },
      "outputs": [],
      "source": [
        "(x_train, y_train), (x_test, y_test) = tf.keras.datasets.cifar10.load_data()\n",
        "x_train = x_train.astype(numpy.float32)\n",
        "x_test  = x_test.astype(numpy.float32)\n",
        "\n",
        "x_train /= 255.\n",
        "x_test  /= 255.\n",
        "\n",
        "y_train = y_train.astype(numpy.int32)\n",
        "y_test  = y_test.astype(numpy.int32)"
      ]
    },
    {
      "cell_type": "markdown",
      "metadata": {
        "id": "xIoSogX8iTA0"
      },
      "source": [
        "This time we won't flatten the images. \n",
        "\n",
        "The training data (`X_train`) is a 3rd-order tensor of size (50000, 32, 32), i.e. it consists of 50000 images of size 32x32 pixels. \n",
        "\n",
        "`y_train` is a 50000-dimensional vector containing the correct classes ('airplane', 'automobile', 'bird', 'cat', 'deer', 'dog', 'frog', 'horse', 'ship', 'truck') for each training sample."
      ]
    },
    {
      "cell_type": "markdown",
      "metadata": {
        "id": "AGIYM3lZiTA0"
      },
      "source": [
        "## Convolutional neural network (CNN)\n",
        "\n",
        "CNN is a type of deep learning model for processing data that has a grid pattern, such as images.\n",
        "\n",
        "Let's use a small model that includes convolutional layers\n",
        "\n",
        "- The Conv2D layers operate on 2D matrices so we input the digit images directly to the model.\n",
        "    - The two Conv2D layers belows learn 32 and 64 filters respectively. \n",
        "    - They are learning filters for 3x3 windows.\n",
        "- The MaxPooling2D layer reduces the spatial dimensions, that is, makes the image smaller.\n",
        "    - It downsamples by taking the maximum value in the window \n",
        "    - The pool size of (2, 2) below means the windows are 2x2. \n",
        "    - Helps in extracting important features and reduce computation\n",
        "- The Flatten layer flattens the 2D matrices into vectors, so we can then switch to Dense layers as in the MLP model.\n",
        "\n",
        "See https://keras.io/layers/convolutional/, https://keras.io/layers/pooling/ for more information."
      ]
    },
    {
      "cell_type": "markdown",
      "metadata": {
        "id": "g9gCk5DNiTA0"
      },
      "source": [
        "![conv layer](images/conv_layer.png)\n",
        "Image credit: [Jason Brownlee](https://machinelearningmastery.com/convolutional-layers-for-deep-learning-neural-networks/)"
      ]
    },
    {
      "cell_type": "markdown",
      "metadata": {
        "id": "8nah6hbeiTA0"
      },
      "source": [
        "![conv layer](images/conv.png)\n",
        "Image credit: [Anh H. Reynolds](https://anhreynolds.com/blogs/cnn.html)"
      ]
    },
    {
      "cell_type": "markdown",
      "metadata": {
        "id": "Fza-677EiTA1"
      },
      "source": [
        "\n",
        "<img src=\"images/MaxpoolSample2.png\" width=\"600\" hight=\"600\" align=\"left\"/>"
      ]
    },
    {
      "cell_type": "code",
      "execution_count": 3,
      "metadata": {
        "id": "18Qe4RaNiTA1"
      },
      "outputs": [],
      "source": [
        "class CIFAR10Classifier(tf.keras.models.Model):\n",
        "\n",
        "    def __init__(self, activation=tf.nn.tanh):\n",
        "        tf.keras.models.Model.__init__(self)\n",
        "        self.conv_1 = tf.keras.layers.Conv2D(32, [3, 3], activation='relu')\n",
        "        self.pool_1 = tf.keras.layers.MaxPooling2D(pool_size=(2, 2))\n",
        "        self.conv_2 = tf.keras.layers.Conv2D(64, [3, 3], activation='relu')\n",
        "        self.pool_2 = tf.keras.layers.MaxPooling2D(pool_size=(2, 2))\n",
        "        self.conv_3 = tf.keras.layers.Conv2D(64, [3, 3], activation='relu')\n",
        "        self.pool_3 = tf.keras.layers.MaxPooling2D(pool_size=(2, 2))\n",
        "        self.dense_4 = tf.keras.layers.Dense(64, activation='relu')\n",
        "        self.dense_fin = tf.keras.layers.Dense(10, activation='softmax')\n",
        "\n",
        "    def call(self, inputs):\n",
        "        x = self.conv_1(inputs)\n",
        "        x = self.pool_1(x)\n",
        "        x = self.conv_2(x)\n",
        "        x = self.pool_2(x)\n",
        "        x = self.conv_3(x)\n",
        "        x = self.pool_3(x)\n",
        "        x = tf.keras.layers.Flatten()(x)\n",
        "        x = self.dense_4(x)\n",
        "        x = self.dense_fin(x)\n",
        "        return x"
      ]
    },
    {
      "cell_type": "markdown",
      "metadata": {
        "id": "JgFZ8aCdiTA1"
      },
      "source": [
        "### Simple training"
      ]
    },
    {
      "cell_type": "markdown",
      "metadata": {
        "id": "Xk0QAMGkiTA2"
      },
      "source": [
        "Here is a concise way to train the network, like we did in the previous notebook. We'll see a more verbose approach below that allows more performance tuning."
      ]
    },
    {
      "cell_type": "code",
      "execution_count": 4,
      "metadata": {
        "id": "HHes0oMxiTA2"
      },
      "outputs": [],
      "source": [
        "def train_network_concise(_batch_size, _n_training_epochs, _lr):\n",
        "\n",
        "    cnn_model = CIFAR10Classifier()\n",
        "\n",
        "    cnn_model.compile(\n",
        "        loss = \"sparse_categorical_crossentropy\", \n",
        "        optimizer = \"adam\", \n",
        "        metrics = ['accuracy'])\n",
        "    \n",
        "    history = cnn_model.fit(x_train, y_train, batch_size=_batch_size, epochs=_n_training_epochs)\n",
        "    return history, cnn_model"
      ]
    },
    {
      "cell_type": "code",
      "execution_count": 5,
      "metadata": {
        "colab": {
          "base_uri": "https://localhost:8080/"
        },
        "id": "YOnsOKG6iTA2",
        "outputId": "e5b8e62a-c22d-4802-ffa5-b32d5266942a"
      },
      "outputs": [
        {
          "output_type": "stream",
          "name": "stdout",
          "text": [
            "Epoch 1/64\n",
            "49/49 [==============================] - 12s 34ms/step - loss: 2.0218 - accuracy: 0.2563\n",
            "Epoch 2/64\n",
            "49/49 [==============================] - 1s 28ms/step - loss: 1.6569 - accuracy: 0.3986\n",
            "Epoch 3/64\n",
            "49/49 [==============================] - 1s 28ms/step - loss: 1.5201 - accuracy: 0.4472\n",
            "Epoch 4/64\n",
            "49/49 [==============================] - 1s 28ms/step - loss: 1.4446 - accuracy: 0.4737\n",
            "Epoch 5/64\n",
            "49/49 [==============================] - 1s 28ms/step - loss: 1.3781 - accuracy: 0.5043\n",
            "Epoch 6/64\n",
            "49/49 [==============================] - 1s 28ms/step - loss: 1.3302 - accuracy: 0.5248\n",
            "Epoch 7/64\n",
            "49/49 [==============================] - 1s 28ms/step - loss: 1.2903 - accuracy: 0.5406\n",
            "Epoch 8/64\n",
            "49/49 [==============================] - 1s 28ms/step - loss: 1.2642 - accuracy: 0.5504\n",
            "Epoch 9/64\n",
            "49/49 [==============================] - 1s 28ms/step - loss: 1.2237 - accuracy: 0.5676\n",
            "Epoch 10/64\n",
            "49/49 [==============================] - 1s 28ms/step - loss: 1.1774 - accuracy: 0.5871\n",
            "Epoch 11/64\n",
            "49/49 [==============================] - 1s 28ms/step - loss: 1.1664 - accuracy: 0.5893\n",
            "Epoch 12/64\n",
            "49/49 [==============================] - 1s 28ms/step - loss: 1.1322 - accuracy: 0.6019\n",
            "Epoch 13/64\n",
            "49/49 [==============================] - 1s 28ms/step - loss: 1.1078 - accuracy: 0.6133\n",
            "Epoch 14/64\n",
            "49/49 [==============================] - 1s 28ms/step - loss: 1.1010 - accuracy: 0.6165\n",
            "Epoch 15/64\n",
            "49/49 [==============================] - 1s 28ms/step - loss: 1.0782 - accuracy: 0.6256\n",
            "Epoch 16/64\n",
            "49/49 [==============================] - 1s 28ms/step - loss: 1.0484 - accuracy: 0.6364\n",
            "Epoch 17/64\n",
            "49/49 [==============================] - 1s 28ms/step - loss: 1.0511 - accuracy: 0.6358\n",
            "Epoch 18/64\n",
            "49/49 [==============================] - 1s 28ms/step - loss: 1.0281 - accuracy: 0.6423\n",
            "Epoch 19/64\n",
            "49/49 [==============================] - 1s 28ms/step - loss: 1.0039 - accuracy: 0.6529\n",
            "Epoch 20/64\n",
            "49/49 [==============================] - 1s 28ms/step - loss: 0.9893 - accuracy: 0.6575\n",
            "Epoch 21/64\n",
            "49/49 [==============================] - 1s 28ms/step - loss: 0.9885 - accuracy: 0.6585\n",
            "Epoch 22/64\n",
            "49/49 [==============================] - 1s 28ms/step - loss: 0.9709 - accuracy: 0.6639\n",
            "Epoch 23/64\n",
            "49/49 [==============================] - 1s 28ms/step - loss: 0.9532 - accuracy: 0.6701\n",
            "Epoch 24/64\n",
            "49/49 [==============================] - 1s 28ms/step - loss: 0.9438 - accuracy: 0.6736\n",
            "Epoch 25/64\n",
            "49/49 [==============================] - 1s 28ms/step - loss: 0.9383 - accuracy: 0.6767\n",
            "Epoch 26/64\n",
            "49/49 [==============================] - 1s 28ms/step - loss: 0.9268 - accuracy: 0.6809\n",
            "Epoch 27/64\n",
            "49/49 [==============================] - 1s 28ms/step - loss: 0.9158 - accuracy: 0.6851\n",
            "Epoch 28/64\n",
            "49/49 [==============================] - 1s 28ms/step - loss: 0.8949 - accuracy: 0.6925\n",
            "Epoch 29/64\n",
            "49/49 [==============================] - 1s 28ms/step - loss: 0.8922 - accuracy: 0.6941\n",
            "Epoch 30/64\n",
            "49/49 [==============================] - 1s 28ms/step - loss: 0.8838 - accuracy: 0.6951\n",
            "Epoch 31/64\n",
            "49/49 [==============================] - 1s 28ms/step - loss: 0.8728 - accuracy: 0.7010\n",
            "Epoch 32/64\n",
            "49/49 [==============================] - 1s 28ms/step - loss: 0.8650 - accuracy: 0.7022\n",
            "Epoch 33/64\n",
            "49/49 [==============================] - 1s 28ms/step - loss: 0.8563 - accuracy: 0.7053\n",
            "Epoch 34/64\n",
            "49/49 [==============================] - 1s 28ms/step - loss: 0.8579 - accuracy: 0.7066\n",
            "Epoch 35/64\n",
            "49/49 [==============================] - 1s 28ms/step - loss: 0.8372 - accuracy: 0.7133\n",
            "Epoch 36/64\n",
            "49/49 [==============================] - 1s 28ms/step - loss: 0.8208 - accuracy: 0.7189\n",
            "Epoch 37/64\n",
            "49/49 [==============================] - 1s 28ms/step - loss: 0.8183 - accuracy: 0.7190\n",
            "Epoch 38/64\n",
            "49/49 [==============================] - 1s 28ms/step - loss: 0.8247 - accuracy: 0.7161\n",
            "Epoch 39/64\n",
            "49/49 [==============================] - 1s 28ms/step - loss: 0.8175 - accuracy: 0.7177\n",
            "Epoch 40/64\n",
            "49/49 [==============================] - 1s 28ms/step - loss: 0.8046 - accuracy: 0.7257\n",
            "Epoch 41/64\n",
            "49/49 [==============================] - 1s 28ms/step - loss: 0.7941 - accuracy: 0.7281\n",
            "Epoch 42/64\n",
            "49/49 [==============================] - 1s 28ms/step - loss: 0.7990 - accuracy: 0.7265\n",
            "Epoch 43/64\n",
            "49/49 [==============================] - 1s 28ms/step - loss: 0.7895 - accuracy: 0.7292\n",
            "Epoch 44/64\n",
            "49/49 [==============================] - 1s 28ms/step - loss: 0.7779 - accuracy: 0.7327\n",
            "Epoch 45/64\n",
            "49/49 [==============================] - 2s 33ms/step - loss: 0.7622 - accuracy: 0.7388\n",
            "Epoch 46/64\n",
            "49/49 [==============================] - 2s 32ms/step - loss: 0.7595 - accuracy: 0.7418\n",
            "Epoch 47/64\n",
            "49/49 [==============================] - 2s 32ms/step - loss: 0.7449 - accuracy: 0.7457\n",
            "Epoch 48/64\n",
            "49/49 [==============================] - 1s 28ms/step - loss: 0.7555 - accuracy: 0.7423\n",
            "Epoch 49/64\n",
            "49/49 [==============================] - 1s 28ms/step - loss: 0.7470 - accuracy: 0.7448\n",
            "Epoch 50/64\n",
            "49/49 [==============================] - 1s 28ms/step - loss: 0.7382 - accuracy: 0.7477\n",
            "Epoch 51/64\n",
            "49/49 [==============================] - 1s 28ms/step - loss: 0.7293 - accuracy: 0.7507\n",
            "Epoch 52/64\n",
            "49/49 [==============================] - 1s 28ms/step - loss: 0.7182 - accuracy: 0.7560\n",
            "Epoch 53/64\n",
            "49/49 [==============================] - 1s 28ms/step - loss: 0.7120 - accuracy: 0.7579\n",
            "Epoch 54/64\n",
            "49/49 [==============================] - 1s 28ms/step - loss: 0.7064 - accuracy: 0.7588\n",
            "Epoch 55/64\n",
            "49/49 [==============================] - 1s 28ms/step - loss: 0.7106 - accuracy: 0.7562\n",
            "Epoch 56/64\n",
            "49/49 [==============================] - 1s 28ms/step - loss: 0.6981 - accuracy: 0.7612\n",
            "Epoch 57/64\n",
            "49/49 [==============================] - 1s 28ms/step - loss: 0.6929 - accuracy: 0.7639\n",
            "Epoch 58/64\n",
            "49/49 [==============================] - 1s 28ms/step - loss: 0.6931 - accuracy: 0.7633\n",
            "Epoch 59/64\n",
            "49/49 [==============================] - 1s 28ms/step - loss: 0.6965 - accuracy: 0.7617\n",
            "Epoch 60/64\n",
            "49/49 [==============================] - 1s 28ms/step - loss: 0.6785 - accuracy: 0.7683\n",
            "Epoch 61/64\n",
            "49/49 [==============================] - 1s 28ms/step - loss: 0.6768 - accuracy: 0.7700\n",
            "Epoch 62/64\n",
            "49/49 [==============================] - 1s 28ms/step - loss: 0.6578 - accuracy: 0.7761\n",
            "Epoch 63/64\n",
            "49/49 [==============================] - 1s 28ms/step - loss: 0.6679 - accuracy: 0.7715\n",
            "Epoch 64/64\n",
            "49/49 [==============================] - 1s 28ms/step - loss: 0.6573 - accuracy: 0.7751\n"
          ]
        }
      ],
      "source": [
        "# This took 55 seconds per epoch on my laptop\n",
        "batch_size = 1024\n",
        "epochs = 64\n",
        "lr = .001\n",
        "history, cnn_model = train_network_concise(batch_size, epochs, lr)"
      ]
    },
    {
      "cell_type": "markdown",
      "metadata": {
        "id": "19foZjNaiTA3"
      },
      "source": [
        "Accuracy for test data.  The model should be better than the non-convolutional model even if you're only patient enough for three epochs. "
      ]
    },
    {
      "cell_type": "code",
      "execution_count": 6,
      "metadata": {
        "colab": {
          "base_uri": "https://localhost:8080/",
          "height": 437
        },
        "id": "Cnow0bgliTA3",
        "outputId": "db410c72-71ab-4fe5-8ca7-da34db46f305"
      },
      "outputs": [
        {
          "output_type": "display_data",
          "data": {
            "text/plain": [
              "<Figure size 360x216 with 1 Axes>"
            ],
            "image/png": "[encoded data removed]"
          },
          "metadata": {
            "needs_background": "light"
          }
        },
        {
          "output_type": "display_data",
          "data": {
            "text/plain": [
              "<Figure size 360x216 with 1 Axes>"
            ],
            "image/png": "[encoded data removed]"
          },
          "metadata": {
            "needs_background": "light"
          }
        }
      ],
      "source": [
        "plt.figure(figsize=(5,3))\n",
        "plt.plot(history.epoch,history.history['loss'])\n",
        "plt.title('loss')\n",
        "\n",
        "plt.figure(figsize=(5,3))\n",
        "plt.plot(history.epoch,history.history['accuracy'])\n",
        "plt.title('accuracy');"
      ]
    },
    {
      "cell_type": "markdown",
      "metadata": {
        "id": "ldsJpckOiTA3"
      },
      "source": [
        "### Inference"
      ]
    },
    {
      "cell_type": "markdown",
      "metadata": {
        "id": "lEqZLJa-iTA4"
      },
      "source": [
        "With enough training epochs, the test accuracy should exceed 99%.\n",
        "\n",
        "You can compare your result with the state-of-the art [here](http://rodrigob.github.io/are_we_there_yet/build/classification_datasets_results.html). Even more results can be found [here](http://yann.lecun.com/exdb/mnist/)."
      ]
    },
    {
      "cell_type": "code",
      "execution_count": 7,
      "metadata": {
        "colab": {
          "base_uri": "https://localhost:8080/"
        },
        "id": "MId072LCiTA4",
        "outputId": "f5ec80f8-2384-4c7a-a4a6-e0c9c793f323"
      },
      "outputs": [
        {
          "output_type": "stream",
          "name": "stdout",
          "text": [
            "313/313 - 1s - loss: 0.8646 - accuracy: 0.7052 - 890ms/epoch - 3ms/step\n",
            "accuracy: 70.52%\n",
            "CPU times: user 1.21 s, sys: 172 ms, total: 1.38 s\n",
            "Wall time: 1.15 s\n"
          ]
        }
      ],
      "source": [
        "%%time\n",
        "x_test_reshaped = numpy.expand_dims(x_test, -1)\n",
        "scores = cnn_model.evaluate(x_test, y_test, verbose=2)\n",
        "print(\"%s: %.2f%%\" % (cnn_model.metrics_names[1], scores[1]*100))"
      ]
    },
    {
      "cell_type": "markdown",
      "metadata": {
        "id": "uBboGII1iTA4"
      },
      "source": [
        "We can also again check the confusion matrix"
      ]
    },
    {
      "cell_type": "code",
      "execution_count": 8,
      "metadata": {
        "colab": {
          "base_uri": "https://localhost:8080/"
        },
        "id": "eOU3OLgKiTA4",
        "outputId": "75237e43-b58d-4b3a-bf85-22688fb19e88"
      },
      "outputs": [
        {
          "output_type": "stream",
          "name": "stdout",
          "text": [
            "Confusion matrix (rows: true classes; columns: predicted classes):\n",
            "\n",
            "[[722  23  53  19  27   2  11  10  86  47]\n",
            " [ 23 779   7  15   6   5   5   8  44 108]\n",
            " [ 64   3 588  69 103  46  67  28  14  18]\n",
            " [ 19  11  80 574  84 111  58  32  11  20]\n",
            " [ 18   5  64  62 704  19  56  59   9   4]\n",
            " [ 19   5  63 212  63 536  25  58   6  13]\n",
            " [  9   3  42  63  41  15 806  13   5   3]\n",
            " [ 15   3  33  61  84  51  10 721   4  18]\n",
            " [ 61  29  16  18  12   6   7   5 808  38]\n",
            " [ 27  58   8  18  13   5   6  20  31 814]]\n",
            "\n",
            "Classification accuracy for each class:\n",
            "\n",
            "0: 0.7220\n",
            "1: 0.7790\n",
            "2: 0.5880\n",
            "3: 0.5740\n",
            "4: 0.7040\n",
            "5: 0.5360\n",
            "6: 0.8060\n",
            "7: 0.7210\n",
            "8: 0.8080\n",
            "9: 0.8140\n"
          ]
        }
      ],
      "source": [
        "from sklearn.metrics import confusion_matrix\n",
        "\n",
        "print('Confusion matrix (rows: true classes; columns: predicted classes):'); print()\n",
        "predictions = cnn_model.predict(x_test)\n",
        "cm=confusion_matrix(y_test, numpy.argmax(predictions, axis=1), labels=list(range(10)))\n",
        "print(cm); print()\n",
        "\n",
        "print('Classification accuracy for each class:'); print()\n",
        "for i,j in enumerate(cm.diagonal()/cm.sum(axis=1)): print(\"%d: %.4f\" % (i,j))"
      ]
    },
    {
      "cell_type": "markdown",
      "metadata": {
        "id": "oN_BAlI_iTA5"
      },
      "source": [
        "### More verbose training"
      ]
    },
    {
      "cell_type": "markdown",
      "metadata": {
        "id": "t4BkLqeUiTA5"
      },
      "source": [
        "This approach explicitly handles the looping over data. It will be helpful this afternoon for diving in and optimizing"
      ]
    },
    {
      "cell_type": "code",
      "execution_count": 9,
      "metadata": {
        "id": "hRAHG1A8iTA5"
      },
      "outputs": [],
      "source": [
        "def compute_loss(y_true, y_pred):\n",
        "    # if labels are integers, use sparse categorical crossentropy\n",
        "    # network's final layer is softmax, so from_logtis=False\n",
        "    scce = tf.keras.losses.SparseCategoricalCrossentropy(from_logits=False)\n",
        "    # if labels are one-hot encoded, use standard crossentropy\n",
        "\n",
        "    return scce(y_true, y_pred)  "
      ]
    },
    {
      "cell_type": "code",
      "execution_count": 10,
      "metadata": {
        "id": "EXQr32cviTA5"
      },
      "outputs": [],
      "source": [
        "def forward_pass(model, batch_data, y_true):\n",
        "    y_pred = model(batch_data)\n",
        "    loss = compute_loss(y_true, y_pred)\n",
        "    return loss"
      ]
    },
    {
      "cell_type": "code",
      "execution_count": 11,
      "metadata": {
        "id": "nldGtSUCiTA5"
      },
      "outputs": [],
      "source": [
        "# Here is a function that will manage the training loop for us:\n",
        "\n",
        "def train_loop(batch_size, n_training_epochs, model, opt):\n",
        "    \n",
        "    @tf.function()\n",
        "    def train_iteration(data, y_true, model, opt):\n",
        "        with tf.GradientTape() as tape:\n",
        "            loss = forward_pass(model, data, y_true)\n",
        "\n",
        "        trainable_vars = model.trainable_variables\n",
        "\n",
        "        # Apply the update to the network (one at a time):\n",
        "        grads = tape.gradient(loss, trainable_vars)\n",
        "\n",
        "        opt.apply_gradients(zip(grads, trainable_vars))\n",
        "        return loss\n",
        "\n",
        "    for i_epoch in range(n_training_epochs):\n",
        "        print(\"beginning epoch %d\" % i_epoch)\n",
        "        start = time.time()\n",
        "\n",
        "        epoch_steps = int(50000/batch_size)\n",
        "        dataset.shuffle(50000) # Shuffle the whole dataset in memory\n",
        "        batches = dataset.batch(batch_size=batch_size, drop_remainder=True)\n",
        "        \n",
        "        for i_batch, (batch_data, y_true) in enumerate(batches):\n",
        "            batch_data = tf.reshape(batch_data, [-1, 32, 32, 3])\n",
        "            loss = train_iteration(batch_data, y_true, model, opt)\n",
        "            \n",
        "        end = time.time()\n",
        "        print(\"took %1.1f seconds for epoch #%d\" % (end-start, i_epoch))"
      ]
    },
    {
      "cell_type": "code",
      "execution_count": 12,
      "metadata": {
        "id": "MLRN-OBSiTA6"
      },
      "outputs": [],
      "source": [
        "def train_network(_batch_size, _n_training_epochs, _lr):\n",
        "\n",
        "    mnist_model = CIFAR10Classifier()\n",
        "\n",
        "    opt = tf.keras.optimizers.Adam(_lr)\n",
        "\n",
        "    train_loop(_batch_size, _n_training_epochs, mnist_model, opt)"
      ]
    },
    {
      "cell_type": "code",
      "execution_count": 13,
      "metadata": {
        "colab": {
          "base_uri": "https://localhost:8080/"
        },
        "id": "eJG0jEURiTA6",
        "outputId": "918239d4-f169-4949-efad-1e40aeec4164"
      },
      "outputs": [
        {
          "output_type": "stream",
          "name": "stdout",
          "text": [
            "beginning epoch 0\n",
            "took 2.4 seconds for epoch #0\n",
            "beginning epoch 1\n",
            "took 1.4 seconds for epoch #1\n",
            "beginning epoch 2\n",
            "took 1.4 seconds for epoch #2\n"
          ]
        }
      ],
      "source": [
        "dataset = tf.data.Dataset.from_tensor_slices((x_train, y_train))\n",
        "dataset.shuffle(50000)\n",
        "\n",
        "batch_size = 512\n",
        "epochs = 3\n",
        "lr = .01\n",
        "train_network(batch_size, epochs, lr)"
      ]
    },
    {
      "cell_type": "markdown",
      "metadata": {
        "id": "oEU_-ti5iTA6"
      },
      "source": [
        "# Homework: improve the accuracy of this model"
      ]
    },
    {
      "cell_type": "markdown",
      "metadata": {
        "id": "YsbsCHKFiTA6"
      },
      "source": [
        "Update this notebook to ensure more accuracy. How high can it be raised? Changes like increasing the number of epochs, altering the learning weight, altering the number of neurons the hidden layer, chnaging the optimizer, etc. could be made directly in the notebook. You can also change the model specification by expanding the network's layer. The current notebook's training accuracy is roughly 58.69%, although it varies randomly.\n",
        "\n",
        "I changed the model earlier in the notebook to achieve over 75% accuracy compared to the around 59% accuracy achieved earlier. I imagine if I let it run for more than 64 epochs I could continue improving the accuracy up to 99%!"
      ]
    },
    {
      "cell_type": "code",
      "source": [],
      "metadata": {
        "id": "4ZBdhm2Uqwa-"
      },
      "execution_count": null,
      "outputs": []
    }
  ],
  "metadata": {
    "kernelspec": {
      "display_name": "Python 3",
      "language": "python",
      "name": "python3"
    },
    "language_info": {
      "codemirror_mode": {
        "name": "ipython",
        "version": 3
      },
      "file_extension": ".py",
      "mimetype": "text/x-python",
      "name": "python",
      "nbconvert_exporter": "python",
      "pygments_lexer": "ipython3",
      "version": "3.7.3"
    },
    "colab": {
      "provenance": [],
      "collapsed_sections": []
    },
    "accelerator": "GPU"
  },
  "nbformat": 4,
  "nbformat_minor": 0
}